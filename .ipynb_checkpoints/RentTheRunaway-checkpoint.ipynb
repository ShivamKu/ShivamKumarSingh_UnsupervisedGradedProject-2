{
 "cells": [
  {
   "cell_type": "markdown",
   "id": "01ba9bb7",
   "metadata": {},
   "source": [
    "## 1. Load the required Libraries and read the dataset"
   ]
  },
  {
   "cell_type": "code",
   "execution_count": 1,
   "id": "8ce559e5",
   "metadata": {},
   "outputs": [],
   "source": [
    "# importing libraries\n",
    "\n",
    "import pandas as pd \n",
    "import numpy as np \n",
    "import matplotlib.pyplot as plt \n",
    "import seaborn as sns \n",
    "import warnings\n",
    "warnings.filterwarnings('ignore') \n",
    "\n",
    "from sklearn.preprocessing import StandardScaler , LabelEncoder\n",
    "from scipy import stats \n",
    "from sklearn.cluster import KMeans\n",
    "from scipy.stats import zscore\n",
    "from scipy.spatial import distance\n",
    "from scipy.cluster.hierarchy import linkage, dendrogram, fcluster\n",
    "from sklearn.cluster import AgglomerativeClustering\n",
    "from sklearn.decomposition import PCA\n",
    "from sklearn.model_selection import train_test_split\n",
    "from sklearn import preprocessing\n",
    "from sklearn.preprocessing import Normalizer"
   ]
  },
  {
   "cell_type": "code",
   "execution_count": 45,
   "id": "a442b53d",
   "metadata": {},
   "outputs": [],
   "source": [
    "df = pd.read_csv('renttherunway.csv')"
   ]
  },
  {
   "cell_type": "markdown",
   "id": "8010fb59",
   "metadata": {},
   "source": [
    "## 2. Check the first few samples, shape, info of the data and try to familiarize yourself with different features"
   ]
  },
  {
   "cell_type": "code",
   "execution_count": 3,
   "id": "972c8965",
   "metadata": {},
   "outputs": [
    {
     "data": {
      "text/html": [
       "<div>\n",
       "<style scoped>\n",
       "    .dataframe tbody tr th:only-of-type {\n",
       "        vertical-align: middle;\n",
       "    }\n",
       "\n",
       "    .dataframe tbody tr th {\n",
       "        vertical-align: top;\n",
       "    }\n",
       "\n",
       "    .dataframe thead th {\n",
       "        text-align: right;\n",
       "    }\n",
       "</style>\n",
       "<table border=\"1\" class=\"dataframe\">\n",
       "  <thead>\n",
       "    <tr style=\"text-align: right;\">\n",
       "      <th></th>\n",
       "      <th>Unnamed: 0</th>\n",
       "      <th>fit</th>\n",
       "      <th>user_id</th>\n",
       "      <th>bust size</th>\n",
       "      <th>item_id</th>\n",
       "      <th>weight</th>\n",
       "      <th>rating</th>\n",
       "      <th>rented for</th>\n",
       "      <th>review_text</th>\n",
       "      <th>body type</th>\n",
       "      <th>review_summary</th>\n",
       "      <th>category</th>\n",
       "      <th>height</th>\n",
       "      <th>size</th>\n",
       "      <th>age</th>\n",
       "      <th>review_date</th>\n",
       "    </tr>\n",
       "  </thead>\n",
       "  <tbody>\n",
       "    <tr>\n",
       "      <th>0</th>\n",
       "      <td>0</td>\n",
       "      <td>fit</td>\n",
       "      <td>420272</td>\n",
       "      <td>34d</td>\n",
       "      <td>2260466</td>\n",
       "      <td>137lbs</td>\n",
       "      <td>10.0</td>\n",
       "      <td>vacation</td>\n",
       "      <td>An adorable romper! Belt and zipper were a lit...</td>\n",
       "      <td>hourglass</td>\n",
       "      <td>So many compliments!</td>\n",
       "      <td>romper</td>\n",
       "      <td>5' 8\"</td>\n",
       "      <td>14</td>\n",
       "      <td>28.0</td>\n",
       "      <td>April 20, 2016</td>\n",
       "    </tr>\n",
       "    <tr>\n",
       "      <th>1</th>\n",
       "      <td>1</td>\n",
       "      <td>fit</td>\n",
       "      <td>273551</td>\n",
       "      <td>34b</td>\n",
       "      <td>153475</td>\n",
       "      <td>132lbs</td>\n",
       "      <td>10.0</td>\n",
       "      <td>other</td>\n",
       "      <td>I rented this dress for a photo shoot. The the...</td>\n",
       "      <td>straight &amp; narrow</td>\n",
       "      <td>I felt so glamourous!!!</td>\n",
       "      <td>gown</td>\n",
       "      <td>5' 6\"</td>\n",
       "      <td>12</td>\n",
       "      <td>36.0</td>\n",
       "      <td>June 18, 2013</td>\n",
       "    </tr>\n",
       "    <tr>\n",
       "      <th>2</th>\n",
       "      <td>2</td>\n",
       "      <td>fit</td>\n",
       "      <td>360448</td>\n",
       "      <td>NaN</td>\n",
       "      <td>1063761</td>\n",
       "      <td>NaN</td>\n",
       "      <td>10.0</td>\n",
       "      <td>party</td>\n",
       "      <td>This hugged in all the right places! It was a ...</td>\n",
       "      <td>NaN</td>\n",
       "      <td>It was a great time to celebrate the (almost) ...</td>\n",
       "      <td>sheath</td>\n",
       "      <td>5' 4\"</td>\n",
       "      <td>4</td>\n",
       "      <td>116.0</td>\n",
       "      <td>December 14, 2015</td>\n",
       "    </tr>\n",
       "    <tr>\n",
       "      <th>3</th>\n",
       "      <td>3</td>\n",
       "      <td>fit</td>\n",
       "      <td>909926</td>\n",
       "      <td>34c</td>\n",
       "      <td>126335</td>\n",
       "      <td>135lbs</td>\n",
       "      <td>8.0</td>\n",
       "      <td>formal affair</td>\n",
       "      <td>I rented this for my company's black tie award...</td>\n",
       "      <td>pear</td>\n",
       "      <td>Dress arrived on time and in perfect condition.</td>\n",
       "      <td>dress</td>\n",
       "      <td>5' 5\"</td>\n",
       "      <td>8</td>\n",
       "      <td>34.0</td>\n",
       "      <td>February 12, 2014</td>\n",
       "    </tr>\n",
       "    <tr>\n",
       "      <th>4</th>\n",
       "      <td>4</td>\n",
       "      <td>fit</td>\n",
       "      <td>151944</td>\n",
       "      <td>34b</td>\n",
       "      <td>616682</td>\n",
       "      <td>145lbs</td>\n",
       "      <td>10.0</td>\n",
       "      <td>wedding</td>\n",
       "      <td>I have always been petite in my upper body and...</td>\n",
       "      <td>athletic</td>\n",
       "      <td>Was in love with this dress !!!</td>\n",
       "      <td>gown</td>\n",
       "      <td>5' 9\"</td>\n",
       "      <td>12</td>\n",
       "      <td>27.0</td>\n",
       "      <td>September 26, 2016</td>\n",
       "    </tr>\n",
       "  </tbody>\n",
       "</table>\n",
       "</div>"
      ],
      "text/plain": [
       "   Unnamed: 0  fit  user_id bust size  item_id  weight  rating     rented for  \\\n",
       "0           0  fit   420272       34d  2260466  137lbs    10.0       vacation   \n",
       "1           1  fit   273551       34b   153475  132lbs    10.0          other   \n",
       "2           2  fit   360448       NaN  1063761     NaN    10.0          party   \n",
       "3           3  fit   909926       34c   126335  135lbs     8.0  formal affair   \n",
       "4           4  fit   151944       34b   616682  145lbs    10.0        wedding   \n",
       "\n",
       "                                         review_text          body type  \\\n",
       "0  An adorable romper! Belt and zipper were a lit...          hourglass   \n",
       "1  I rented this dress for a photo shoot. The the...  straight & narrow   \n",
       "2  This hugged in all the right places! It was a ...                NaN   \n",
       "3  I rented this for my company's black tie award...               pear   \n",
       "4  I have always been petite in my upper body and...           athletic   \n",
       "\n",
       "                                      review_summary category height  size  \\\n",
       "0                               So many compliments!   romper  5' 8\"    14   \n",
       "1                            I felt so glamourous!!!     gown  5' 6\"    12   \n",
       "2  It was a great time to celebrate the (almost) ...   sheath  5' 4\"     4   \n",
       "3   Dress arrived on time and in perfect condition.     dress  5' 5\"     8   \n",
       "4                    Was in love with this dress !!!     gown  5' 9\"    12   \n",
       "\n",
       "     age         review_date  \n",
       "0   28.0      April 20, 2016  \n",
       "1   36.0       June 18, 2013  \n",
       "2  116.0   December 14, 2015  \n",
       "3   34.0   February 12, 2014  \n",
       "4   27.0  September 26, 2016  "
      ]
     },
     "execution_count": 3,
     "metadata": {},
     "output_type": "execute_result"
    }
   ],
   "source": [
    "df.head()"
   ]
  },
  {
   "cell_type": "code",
   "execution_count": 4,
   "id": "0071ee6f",
   "metadata": {},
   "outputs": [
    {
     "data": {
      "text/plain": [
       "(192544, 16)"
      ]
     },
     "execution_count": 4,
     "metadata": {},
     "output_type": "execute_result"
    }
   ],
   "source": [
    "df.shape"
   ]
  },
  {
   "cell_type": "code",
   "execution_count": 5,
   "id": "94492e05",
   "metadata": {},
   "outputs": [
    {
     "name": "stdout",
     "output_type": "stream",
     "text": [
      "<class 'pandas.core.frame.DataFrame'>\n",
      "RangeIndex: 192544 entries, 0 to 192543\n",
      "Data columns (total 16 columns):\n",
      " #   Column          Non-Null Count   Dtype  \n",
      "---  ------          --------------   -----  \n",
      " 0   Unnamed: 0      192544 non-null  int64  \n",
      " 1   fit             192544 non-null  object \n",
      " 2   user_id         192544 non-null  int64  \n",
      " 3   bust size       174133 non-null  object \n",
      " 4   item_id         192544 non-null  int64  \n",
      " 5   weight          162562 non-null  object \n",
      " 6   rating          192462 non-null  float64\n",
      " 7   rented for      192534 non-null  object \n",
      " 8   review_text     192482 non-null  object \n",
      " 9   body type       177907 non-null  object \n",
      " 10  review_summary  192199 non-null  object \n",
      " 11  category        192544 non-null  object \n",
      " 12  height          191867 non-null  object \n",
      " 13  size            192544 non-null  int64  \n",
      " 14  age             191584 non-null  float64\n",
      " 15  review_date     192544 non-null  object \n",
      "dtypes: float64(2), int64(4), object(10)\n",
      "memory usage: 23.5+ MB\n"
     ]
    }
   ],
   "source": [
    "df.info()"
   ]
  },
  {
   "cell_type": "code",
   "execution_count": 6,
   "id": "58555c0d",
   "metadata": {},
   "outputs": [
    {
     "data": {
      "text/html": [
       "<div>\n",
       "<style scoped>\n",
       "    .dataframe tbody tr th:only-of-type {\n",
       "        vertical-align: middle;\n",
       "    }\n",
       "\n",
       "    .dataframe tbody tr th {\n",
       "        vertical-align: top;\n",
       "    }\n",
       "\n",
       "    .dataframe thead th {\n",
       "        text-align: right;\n",
       "    }\n",
       "</style>\n",
       "<table border=\"1\" class=\"dataframe\">\n",
       "  <thead>\n",
       "    <tr style=\"text-align: right;\">\n",
       "      <th></th>\n",
       "      <th>Unnamed: 0</th>\n",
       "      <th>user_id</th>\n",
       "      <th>item_id</th>\n",
       "      <th>rating</th>\n",
       "      <th>size</th>\n",
       "      <th>age</th>\n",
       "    </tr>\n",
       "  </thead>\n",
       "  <tbody>\n",
       "    <tr>\n",
       "      <th>count</th>\n",
       "      <td>192544.000000</td>\n",
       "      <td>192544.000000</td>\n",
       "      <td>1.925440e+05</td>\n",
       "      <td>192462.000000</td>\n",
       "      <td>192544.000000</td>\n",
       "      <td>191584.000000</td>\n",
       "    </tr>\n",
       "    <tr>\n",
       "      <th>mean</th>\n",
       "      <td>96271.500000</td>\n",
       "      <td>499494.100149</td>\n",
       "      <td>1.045684e+06</td>\n",
       "      <td>9.092371</td>\n",
       "      <td>12.245175</td>\n",
       "      <td>33.871017</td>\n",
       "    </tr>\n",
       "    <tr>\n",
       "      <th>std</th>\n",
       "      <td>55582.809453</td>\n",
       "      <td>289059.719328</td>\n",
       "      <td>8.053148e+05</td>\n",
       "      <td>1.430044</td>\n",
       "      <td>8.494877</td>\n",
       "      <td>8.058083</td>\n",
       "    </tr>\n",
       "    <tr>\n",
       "      <th>min</th>\n",
       "      <td>0.000000</td>\n",
       "      <td>9.000000</td>\n",
       "      <td>1.233730e+05</td>\n",
       "      <td>2.000000</td>\n",
       "      <td>0.000000</td>\n",
       "      <td>0.000000</td>\n",
       "    </tr>\n",
       "    <tr>\n",
       "      <th>25%</th>\n",
       "      <td>48135.750000</td>\n",
       "      <td>250654.250000</td>\n",
       "      <td>1.950760e+05</td>\n",
       "      <td>8.000000</td>\n",
       "      <td>8.000000</td>\n",
       "      <td>29.000000</td>\n",
       "    </tr>\n",
       "    <tr>\n",
       "      <th>50%</th>\n",
       "      <td>96271.500000</td>\n",
       "      <td>499419.000000</td>\n",
       "      <td>9.483960e+05</td>\n",
       "      <td>10.000000</td>\n",
       "      <td>12.000000</td>\n",
       "      <td>32.000000</td>\n",
       "    </tr>\n",
       "    <tr>\n",
       "      <th>75%</th>\n",
       "      <td>144407.250000</td>\n",
       "      <td>750974.000000</td>\n",
       "      <td>1.678888e+06</td>\n",
       "      <td>10.000000</td>\n",
       "      <td>16.000000</td>\n",
       "      <td>37.000000</td>\n",
       "    </tr>\n",
       "    <tr>\n",
       "      <th>max</th>\n",
       "      <td>192543.000000</td>\n",
       "      <td>999997.000000</td>\n",
       "      <td>2.966087e+06</td>\n",
       "      <td>10.000000</td>\n",
       "      <td>58.000000</td>\n",
       "      <td>117.000000</td>\n",
       "    </tr>\n",
       "  </tbody>\n",
       "</table>\n",
       "</div>"
      ],
      "text/plain": [
       "          Unnamed: 0        user_id       item_id         rating  \\\n",
       "count  192544.000000  192544.000000  1.925440e+05  192462.000000   \n",
       "mean    96271.500000  499494.100149  1.045684e+06       9.092371   \n",
       "std     55582.809453  289059.719328  8.053148e+05       1.430044   \n",
       "min         0.000000       9.000000  1.233730e+05       2.000000   \n",
       "25%     48135.750000  250654.250000  1.950760e+05       8.000000   \n",
       "50%     96271.500000  499419.000000  9.483960e+05      10.000000   \n",
       "75%    144407.250000  750974.000000  1.678888e+06      10.000000   \n",
       "max    192543.000000  999997.000000  2.966087e+06      10.000000   \n",
       "\n",
       "                size            age  \n",
       "count  192544.000000  191584.000000  \n",
       "mean       12.245175      33.871017  \n",
       "std         8.494877       8.058083  \n",
       "min         0.000000       0.000000  \n",
       "25%         8.000000      29.000000  \n",
       "50%        12.000000      32.000000  \n",
       "75%        16.000000      37.000000  \n",
       "max        58.000000     117.000000  "
      ]
     },
     "execution_count": 6,
     "metadata": {},
     "output_type": "execute_result"
    }
   ],
   "source": [
    "df.describe()"
   ]
  },
  {
   "cell_type": "code",
   "execution_count": 7,
   "id": "7007acaa",
   "metadata": {},
   "outputs": [
    {
     "data": {
      "text/plain": [
       "Unnamed: 0         0.000000\n",
       "fit                0.000000\n",
       "user_id            0.000000\n",
       "bust size          9.561970\n",
       "item_id            0.000000\n",
       "weight            15.571506\n",
       "rating             0.042588\n",
       "rented for         0.005194\n",
       "review_text        0.032200\n",
       "body type          7.601899\n",
       "review_summary     0.179180\n",
       "category           0.000000\n",
       "height             0.351608\n",
       "size               0.000000\n",
       "age                0.498587\n",
       "review_date        0.000000\n",
       "dtype: float64"
      ]
     },
     "execution_count": 7,
     "metadata": {},
     "output_type": "execute_result"
    }
   ],
   "source": [
    "# Percentage of null values in a specific column of the dataset\n",
    "\n",
    "df.isnull().sum()/len(df) * 100"
   ]
  },
  {
   "cell_type": "code",
   "execution_count": 8,
   "id": "c1447810",
   "metadata": {},
   "outputs": [
    {
     "data": {
      "text/plain": [
       "0"
      ]
     },
     "execution_count": 8,
     "metadata": {},
     "output_type": "execute_result"
    }
   ],
   "source": [
    "# 3. Check duplicates\n",
    "len(df[df.duplicated()])"
   ]
  },
  {
   "cell_type": "code",
   "execution_count": 46,
   "id": "dab672f6",
   "metadata": {},
   "outputs": [
    {
     "data": {
      "text/html": [
       "<div>\n",
       "<style scoped>\n",
       "    .dataframe tbody tr th:only-of-type {\n",
       "        vertical-align: middle;\n",
       "    }\n",
       "\n",
       "    .dataframe tbody tr th {\n",
       "        vertical-align: top;\n",
       "    }\n",
       "\n",
       "    .dataframe thead th {\n",
       "        text-align: right;\n",
       "    }\n",
       "</style>\n",
       "<table border=\"1\" class=\"dataframe\">\n",
       "  <thead>\n",
       "    <tr style=\"text-align: right;\">\n",
       "      <th></th>\n",
       "      <th>Unnamed: 0</th>\n",
       "      <th>fit</th>\n",
       "      <th>bust size</th>\n",
       "      <th>weight</th>\n",
       "      <th>rating</th>\n",
       "      <th>rented for</th>\n",
       "      <th>review_text</th>\n",
       "      <th>body type</th>\n",
       "      <th>review_summary</th>\n",
       "      <th>category</th>\n",
       "      <th>height</th>\n",
       "      <th>size</th>\n",
       "      <th>age</th>\n",
       "    </tr>\n",
       "  </thead>\n",
       "  <tbody>\n",
       "    <tr>\n",
       "      <th>0</th>\n",
       "      <td>0</td>\n",
       "      <td>fit</td>\n",
       "      <td>34d</td>\n",
       "      <td>137lbs</td>\n",
       "      <td>10.0</td>\n",
       "      <td>vacation</td>\n",
       "      <td>An adorable romper! Belt and zipper were a lit...</td>\n",
       "      <td>hourglass</td>\n",
       "      <td>So many compliments!</td>\n",
       "      <td>romper</td>\n",
       "      <td>5' 8\"</td>\n",
       "      <td>14</td>\n",
       "      <td>28.0</td>\n",
       "    </tr>\n",
       "    <tr>\n",
       "      <th>1</th>\n",
       "      <td>1</td>\n",
       "      <td>fit</td>\n",
       "      <td>34b</td>\n",
       "      <td>132lbs</td>\n",
       "      <td>10.0</td>\n",
       "      <td>other</td>\n",
       "      <td>I rented this dress for a photo shoot. The the...</td>\n",
       "      <td>straight &amp; narrow</td>\n",
       "      <td>I felt so glamourous!!!</td>\n",
       "      <td>gown</td>\n",
       "      <td>5' 6\"</td>\n",
       "      <td>12</td>\n",
       "      <td>36.0</td>\n",
       "    </tr>\n",
       "    <tr>\n",
       "      <th>2</th>\n",
       "      <td>2</td>\n",
       "      <td>fit</td>\n",
       "      <td>NaN</td>\n",
       "      <td>NaN</td>\n",
       "      <td>10.0</td>\n",
       "      <td>party</td>\n",
       "      <td>This hugged in all the right places! It was a ...</td>\n",
       "      <td>NaN</td>\n",
       "      <td>It was a great time to celebrate the (almost) ...</td>\n",
       "      <td>sheath</td>\n",
       "      <td>5' 4\"</td>\n",
       "      <td>4</td>\n",
       "      <td>116.0</td>\n",
       "    </tr>\n",
       "    <tr>\n",
       "      <th>3</th>\n",
       "      <td>3</td>\n",
       "      <td>fit</td>\n",
       "      <td>34c</td>\n",
       "      <td>135lbs</td>\n",
       "      <td>8.0</td>\n",
       "      <td>formal affair</td>\n",
       "      <td>I rented this for my company's black tie award...</td>\n",
       "      <td>pear</td>\n",
       "      <td>Dress arrived on time and in perfect condition.</td>\n",
       "      <td>dress</td>\n",
       "      <td>5' 5\"</td>\n",
       "      <td>8</td>\n",
       "      <td>34.0</td>\n",
       "    </tr>\n",
       "    <tr>\n",
       "      <th>4</th>\n",
       "      <td>4</td>\n",
       "      <td>fit</td>\n",
       "      <td>34b</td>\n",
       "      <td>145lbs</td>\n",
       "      <td>10.0</td>\n",
       "      <td>wedding</td>\n",
       "      <td>I have always been petite in my upper body and...</td>\n",
       "      <td>athletic</td>\n",
       "      <td>Was in love with this dress !!!</td>\n",
       "      <td>gown</td>\n",
       "      <td>5' 9\"</td>\n",
       "      <td>12</td>\n",
       "      <td>27.0</td>\n",
       "    </tr>\n",
       "  </tbody>\n",
       "</table>\n",
       "</div>"
      ],
      "text/plain": [
       "   Unnamed: 0  fit bust size  weight  rating     rented for  \\\n",
       "0           0  fit       34d  137lbs    10.0       vacation   \n",
       "1           1  fit       34b  132lbs    10.0          other   \n",
       "2           2  fit       NaN     NaN    10.0          party   \n",
       "3           3  fit       34c  135lbs     8.0  formal affair   \n",
       "4           4  fit       34b  145lbs    10.0        wedding   \n",
       "\n",
       "                                         review_text          body type  \\\n",
       "0  An adorable romper! Belt and zipper were a lit...          hourglass   \n",
       "1  I rented this dress for a photo shoot. The the...  straight & narrow   \n",
       "2  This hugged in all the right places! It was a ...                NaN   \n",
       "3  I rented this for my company's black tie award...               pear   \n",
       "4  I have always been petite in my upper body and...           athletic   \n",
       "\n",
       "                                      review_summary category height  size  \\\n",
       "0                               So many compliments!   romper  5' 8\"    14   \n",
       "1                            I felt so glamourous!!!     gown  5' 6\"    12   \n",
       "2  It was a great time to celebrate the (almost) ...   sheath  5' 4\"     4   \n",
       "3   Dress arrived on time and in perfect condition.     dress  5' 5\"     8   \n",
       "4                    Was in love with this dress !!!     gown  5' 9\"    12   \n",
       "\n",
       "     age  \n",
       "0   28.0  \n",
       "1   36.0  \n",
       "2  116.0  \n",
       "3   34.0  \n",
       "4   27.0  "
      ]
     },
     "execution_count": 46,
     "metadata": {},
     "output_type": "execute_result"
    }
   ],
   "source": [
    "df = df.drop(columns=['user_id','item_id','review_date'],axis=1)\n",
    "df.head()"
   ]
  },
  {
   "cell_type": "code",
   "execution_count": 10,
   "id": "40f84258",
   "metadata": {},
   "outputs": [
    {
     "data": {
      "text/plain": [
       "dtype('O')"
      ]
     },
     "execution_count": 10,
     "metadata": {},
     "output_type": "execute_result"
    }
   ],
   "source": [
    "df.weight.dtypes"
   ]
  },
  {
   "cell_type": "code",
   "execution_count": 47,
   "id": "3634fcb6",
   "metadata": {},
   "outputs": [],
   "source": [
    "df['weight'] = pd.to_numeric(df['weight'].str.replace('lbs',''))"
   ]
  },
  {
   "cell_type": "code",
   "execution_count": 48,
   "id": "1e5fc076",
   "metadata": {},
   "outputs": [],
   "source": [
    "df.weight.fillna(0, inplace=True)"
   ]
  },
  {
   "cell_type": "code",
   "execution_count": 49,
   "id": "379351c3",
   "metadata": {},
   "outputs": [
    {
     "data": {
      "text/plain": [
       "0         137.0\n",
       "1         132.0\n",
       "2           0.0\n",
       "3         135.0\n",
       "4         145.0\n",
       "          ...  \n",
       "192539    140.0\n",
       "192540    100.0\n",
       "192541    135.0\n",
       "192542    165.0\n",
       "192543    155.0\n",
       "Name: weight, Length: 192544, dtype: float64"
      ]
     },
     "execution_count": 49,
     "metadata": {},
     "output_type": "execute_result"
    }
   ],
   "source": [
    "df['weight']"
   ]
  },
  {
   "cell_type": "code",
   "execution_count": 50,
   "id": "f9acd760",
   "metadata": {},
   "outputs": [
    {
     "data": {
      "text/plain": [
       "Index(['Unnamed: 0', 'fit', 'bust size', 'weight', 'rating', 'rented for',\n",
       "       'review_text', 'body type', 'review_summary', 'category', 'height',\n",
       "       'size', 'age'],\n",
       "      dtype='object')"
      ]
     },
     "execution_count": 50,
     "metadata": {},
     "output_type": "execute_result"
    }
   ],
   "source": [
    "df.columns"
   ]
  },
  {
   "cell_type": "code",
   "execution_count": 51,
   "id": "e6b77f91",
   "metadata": {},
   "outputs": [],
   "source": [
    "df = df.drop(['Unnamed: 0', 'review_text', 'review_summary'],axis=1)"
   ]
  },
  {
   "cell_type": "code",
   "execution_count": 52,
   "id": "b5af50c9",
   "metadata": {},
   "outputs": [
    {
     "data": {
      "text/plain": [
       "Index(['fit', 'bust size', 'weight', 'rating', 'rented for', 'body type',\n",
       "       'category', 'height', 'size', 'age'],\n",
       "      dtype='object')"
      ]
     },
     "execution_count": 52,
     "metadata": {},
     "output_type": "execute_result"
    }
   ],
   "source": [
    "df.columns"
   ]
  },
  {
   "cell_type": "code",
   "execution_count": 43,
   "id": "24277c9a",
   "metadata": {},
   "outputs": [
    {
     "data": {
      "text/plain": [
       "0         137.0\n",
       "1         132.0\n",
       "2           nan\n",
       "3         135.0\n",
       "4         145.0\n",
       "          ...  \n",
       "192539    140.0\n",
       "192540    100.0\n",
       "192541    135.0\n",
       "192542    165.0\n",
       "192543    155.0\n",
       "Name: weight, Length: 192544, dtype: object"
      ]
     },
     "execution_count": 43,
     "metadata": {},
     "output_type": "execute_result"
    }
   ],
   "source": [
    "df['weight']"
   ]
  },
  {
   "cell_type": "code",
   "execution_count": 53,
   "id": "5e5059d0",
   "metadata": {},
   "outputs": [
    {
     "data": {
      "text/plain": [
       "array(['vacation', 'other', 'party', 'formal affair', 'wedding', 'date',\n",
       "       'everyday', 'work', nan, 'party: cocktail'], dtype=object)"
      ]
     },
     "execution_count": 53,
     "metadata": {},
     "output_type": "execute_result"
    }
   ],
   "source": [
    "df['rented for'].unique()"
   ]
  },
  {
   "cell_type": "code",
   "execution_count": 54,
   "id": "310e3b68",
   "metadata": {},
   "outputs": [],
   "source": [
    "df['rented for'] = df['rented for'].replace(['party','party: cocktail'], 'party')"
   ]
  },
  {
   "cell_type": "code",
   "execution_count": 55,
   "id": "e3372943",
   "metadata": {},
   "outputs": [
    {
     "data": {
      "text/plain": [
       "array(['vacation', 'other', 'party', 'formal affair', 'wedding', 'date',\n",
       "       'everyday', 'work', nan], dtype=object)"
      ]
     },
     "execution_count": 55,
     "metadata": {},
     "output_type": "execute_result"
    }
   ],
   "source": [
    "df['rented for'].unique()"
   ]
  },
  {
   "cell_type": "code",
   "execution_count": 56,
   "id": "29741cd0",
   "metadata": {},
   "outputs": [
    {
     "data": {
      "text/plain": [
       "0         5' 8\"\n",
       "1         5' 6\"\n",
       "2         5' 4\"\n",
       "3         5' 5\"\n",
       "4         5' 9\"\n",
       "          ...  \n",
       "192539    5' 9\"\n",
       "192540    5' 1\"\n",
       "192541    5' 8\"\n",
       "192542    5' 6\"\n",
       "192543    5' 6\"\n",
       "Name: height, Length: 192544, dtype: object"
      ]
     },
     "execution_count": 56,
     "metadata": {},
     "output_type": "execute_result"
    }
   ],
   "source": [
    "df['height']"
   ]
  },
  {
   "cell_type": "code",
   "execution_count": 57,
   "id": "ff52673e",
   "metadata": {},
   "outputs": [],
   "source": [
    "df_2 =df.copy()"
   ]
  },
  {
   "cell_type": "code",
   "execution_count": 58,
   "id": "ccc8340d",
   "metadata": {},
   "outputs": [],
   "source": [
    "df['height'] =df['height'].str.replace('\"','')"
   ]
  },
  {
   "cell_type": "code",
   "execution_count": 59,
   "id": "d13c63cc",
   "metadata": {},
   "outputs": [
    {
     "data": {
      "text/plain": [
       "0         5' 8\n",
       "1         5' 6\n",
       "2         5' 4\n",
       "3         5' 5\n",
       "4         5' 9\n",
       "          ... \n",
       "192539    5' 9\n",
       "192540    5' 1\n",
       "192541    5' 8\n",
       "192542    5' 6\n",
       "192543    5' 6\n",
       "Name: height, Length: 192544, dtype: object"
      ]
     },
     "execution_count": 59,
     "metadata": {},
     "output_type": "execute_result"
    }
   ],
   "source": [
    "df['height']"
   ]
  },
  {
   "cell_type": "code",
   "execution_count": 60,
   "id": "c645e237",
   "metadata": {},
   "outputs": [
    {
     "data": {
      "text/plain": [
       "0         68.0\n",
       "1         66.0\n",
       "2         64.0\n",
       "3         65.0\n",
       "4         69.0\n",
       "          ... \n",
       "192539    69.0\n",
       "192540    61.0\n",
       "192541    68.0\n",
       "192542    66.0\n",
       "192543    66.0\n",
       "Name: height, Length: 192544, dtype: float64"
      ]
     },
     "execution_count": 60,
     "metadata": {},
     "output_type": "execute_result"
    }
   ],
   "source": [
    "df[\"height\"] = (df.height.str.split(\"'\").str[0].astype(float) *12) + (df.height.str.split(\"'\").str[1].astype(float))\n",
    "df['height']"
   ]
  },
  {
   "cell_type": "code",
   "execution_count": 45,
   "id": "570022a4",
   "metadata": {},
   "outputs": [
    {
     "data": {
      "text/plain": [
       "Unnamed: 0        0.000000\n",
       "fit               0.000000\n",
       "user_id           0.000000\n",
       "bust size         9.561970\n",
       "item_id           0.000000\n",
       "weight            0.000000\n",
       "rating            0.042588\n",
       "rented for        0.005194\n",
       "review_text       0.032200\n",
       "body type         7.601899\n",
       "review_summary    0.179180\n",
       "category          0.000000\n",
       "height            0.351608\n",
       "size              0.000000\n",
       "age               0.498587\n",
       "review_date       0.000000\n",
       "dtype: float64"
      ]
     },
     "execution_count": 45,
     "metadata": {},
     "output_type": "execute_result"
    }
   ],
   "source": [
    "df.isnull().sum()/len(df) * 100"
   ]
  },
  {
   "cell_type": "code",
   "execution_count": 61,
   "id": "11a3dc0e",
   "metadata": {},
   "outputs": [],
   "source": [
    "missing_values = df.isnull().sum()/len(df)\n",
    "\n",
    "## These are the index of both categorical columns as well as numerical columns having null values.\n",
    "index = [i  for i in missing_values[missing_values>0].index]\n",
    "\n",
    "## separating numerical columns and categorical columns\n",
    "numerical_columns = [i     for i in index      if i in df.columns and  df[i].dtype!=object]\n",
    "categorical_columns = [i     for i in index      if i in df.columns and  df[i].dtype==object]\n",
    "\n",
    "## Filling the null values of the numerical columns with median computation.\n",
    "for columns in numerical_columns:\n",
    "    df[columns]=df[columns].fillna(df[columns].median())\n",
    "    \n",
    "## Filling the null values of the categorical columns with mode computation.\n",
    "for columns in categorical_columns:\n",
    "    df[columns]=df[columns].fillna(df[columns].mode()[0])"
   ]
  },
  {
   "cell_type": "code",
   "execution_count": 62,
   "id": "fdd749dc",
   "metadata": {},
   "outputs": [
    {
     "data": {
      "text/plain": [
       "fit           0.0\n",
       "bust size     0.0\n",
       "weight        0.0\n",
       "rating        0.0\n",
       "rented for    0.0\n",
       "body type     0.0\n",
       "category      0.0\n",
       "height        0.0\n",
       "size          0.0\n",
       "age           0.0\n",
       "dtype: float64"
      ]
     },
     "execution_count": 62,
     "metadata": {},
     "output_type": "execute_result"
    }
   ],
   "source": [
    "df.isnull().sum()/len(df) * 100"
   ]
  },
  {
   "cell_type": "code",
   "execution_count": 63,
   "id": "e1809f1e",
   "metadata": {},
   "outputs": [
    {
     "data": {
      "text/html": [
       "<div>\n",
       "<style scoped>\n",
       "    .dataframe tbody tr th:only-of-type {\n",
       "        vertical-align: middle;\n",
       "    }\n",
       "\n",
       "    .dataframe tbody tr th {\n",
       "        vertical-align: top;\n",
       "    }\n",
       "\n",
       "    .dataframe thead th {\n",
       "        text-align: right;\n",
       "    }\n",
       "</style>\n",
       "<table border=\"1\" class=\"dataframe\">\n",
       "  <thead>\n",
       "    <tr style=\"text-align: right;\">\n",
       "      <th></th>\n",
       "      <th>weight</th>\n",
       "      <th>rating</th>\n",
       "      <th>height</th>\n",
       "      <th>size</th>\n",
       "      <th>age</th>\n",
       "    </tr>\n",
       "  </thead>\n",
       "  <tbody>\n",
       "    <tr>\n",
       "      <th>count</th>\n",
       "      <td>192544.000000</td>\n",
       "      <td>192544.000000</td>\n",
       "      <td>192544.000000</td>\n",
       "      <td>192544.000000</td>\n",
       "      <td>192544.000000</td>\n",
       "    </tr>\n",
       "    <tr>\n",
       "      <th>mean</th>\n",
       "      <td>115.997751</td>\n",
       "      <td>9.092758</td>\n",
       "      <td>65.309529</td>\n",
       "      <td>12.245175</td>\n",
       "      <td>33.861689</td>\n",
       "    </tr>\n",
       "    <tr>\n",
       "      <th>std</th>\n",
       "      <td>53.726993</td>\n",
       "      <td>1.429862</td>\n",
       "      <td>2.658857</td>\n",
       "      <td>8.494877</td>\n",
       "      <td>8.039050</td>\n",
       "    </tr>\n",
       "    <tr>\n",
       "      <th>min</th>\n",
       "      <td>0.000000</td>\n",
       "      <td>2.000000</td>\n",
       "      <td>54.000000</td>\n",
       "      <td>0.000000</td>\n",
       "      <td>0.000000</td>\n",
       "    </tr>\n",
       "    <tr>\n",
       "      <th>25%</th>\n",
       "      <td>115.000000</td>\n",
       "      <td>8.000000</td>\n",
       "      <td>63.000000</td>\n",
       "      <td>8.000000</td>\n",
       "      <td>29.000000</td>\n",
       "    </tr>\n",
       "    <tr>\n",
       "      <th>50%</th>\n",
       "      <td>130.000000</td>\n",
       "      <td>10.000000</td>\n",
       "      <td>65.000000</td>\n",
       "      <td>12.000000</td>\n",
       "      <td>32.000000</td>\n",
       "    </tr>\n",
       "    <tr>\n",
       "      <th>75%</th>\n",
       "      <td>145.000000</td>\n",
       "      <td>10.000000</td>\n",
       "      <td>67.000000</td>\n",
       "      <td>16.000000</td>\n",
       "      <td>37.000000</td>\n",
       "    </tr>\n",
       "    <tr>\n",
       "      <th>max</th>\n",
       "      <td>300.000000</td>\n",
       "      <td>10.000000</td>\n",
       "      <td>78.000000</td>\n",
       "      <td>58.000000</td>\n",
       "      <td>117.000000</td>\n",
       "    </tr>\n",
       "  </tbody>\n",
       "</table>\n",
       "</div>"
      ],
      "text/plain": [
       "              weight         rating         height           size  \\\n",
       "count  192544.000000  192544.000000  192544.000000  192544.000000   \n",
       "mean      115.997751       9.092758      65.309529      12.245175   \n",
       "std        53.726993       1.429862       2.658857       8.494877   \n",
       "min         0.000000       2.000000      54.000000       0.000000   \n",
       "25%       115.000000       8.000000      63.000000       8.000000   \n",
       "50%       130.000000      10.000000      65.000000      12.000000   \n",
       "75%       145.000000      10.000000      67.000000      16.000000   \n",
       "max       300.000000      10.000000      78.000000      58.000000   \n",
       "\n",
       "                 age  \n",
       "count  192544.000000  \n",
       "mean       33.861689  \n",
       "std         8.039050  \n",
       "min         0.000000  \n",
       "25%        29.000000  \n",
       "50%        32.000000  \n",
       "75%        37.000000  \n",
       "max       117.000000  "
      ]
     },
     "execution_count": 63,
     "metadata": {},
     "output_type": "execute_result"
    }
   ],
   "source": [
    "df.describe()"
   ]
  },
  {
   "cell_type": "code",
   "execution_count": 64,
   "id": "7cad03b2",
   "metadata": {},
   "outputs": [
    {
     "data": {
      "image/png": "[encoded data removed]",
      "text/plain": [
       "<Figure size 432x288 with 1 Axes>"
      ]
     },
     "metadata": {
      "needs_background": "light"
     },
     "output_type": "display_data"
    }
   ],
   "source": [
    "sns.boxplot(df['age'])\n",
    "plt.show()"
   ]
  },
  {
   "cell_type": "code",
   "execution_count": 65,
   "id": "ce41eb69",
   "metadata": {},
   "outputs": [
    {
     "name": "stdout",
     "output_type": "stream",
     "text": [
      "29.0\n",
      "37.0\n",
      "8.0\n"
     ]
    }
   ],
   "source": [
    "Q1 = df['age'].quantile(0.25)\n",
    "Q3 = df['age'].quantile(0.75)\n",
    "IQR = Q3-Q1\n",
    "print(Q1)\n",
    "print(Q3)\n",
    "print(IQR)"
   ]
  },
  {
   "cell_type": "code",
   "execution_count": 66,
   "id": "a2adb8f6",
   "metadata": {},
   "outputs": [
    {
     "name": "stdout",
     "output_type": "stream",
     "text": [
      "17.0\n",
      "49.0\n"
     ]
    }
   ],
   "source": [
    "lower_whisker  = Q1-(1.5*IQR)\n",
    "upper_whisker  = Q3+(1.5*IQR)\n",
    "print(lower_whisker)\n",
    "print(upper_whisker)"
   ]
  },
  {
   "cell_type": "code",
   "execution_count": 67,
   "id": "0ba6ee2f",
   "metadata": {},
   "outputs": [],
   "source": [
    "df_out = df.loc[(df['age'] < upper_whisker) & (df['age'] > lower_whisker)]"
   ]
  },
  {
   "cell_type": "code",
   "execution_count": 68,
   "id": "89950814",
   "metadata": {},
   "outputs": [
    {
     "data": {
      "image/png": "[encoded data removed]",
      "text/plain": [
       "<Figure size 432x288 with 1 Axes>"
      ]
     },
     "metadata": {
      "needs_background": "light"
     },
     "output_type": "display_data"
    }
   ],
   "source": [
    "sns.boxplot(df_out['age'])\n",
    "plt.show()"
   ]
  },
  {
   "cell_type": "code",
   "execution_count": 69,
   "id": "422d0ff2",
   "metadata": {},
   "outputs": [
    {
     "data": {
      "image/png": "[encoded data removed]",
      "text/plain": [
       "<Figure size 432x288 with 1 Axes>"
      ]
     },
     "metadata": {},
     "output_type": "display_data"
    }
   ],
   "source": [
    "df['rented for'].value_counts().plot(kind='pie',autopct='%1.1f%%')\n",
    "plt.show()"
   ]
  },
  {
   "cell_type": "code",
   "execution_count": 70,
   "id": "ed7225df",
   "metadata": {},
   "outputs": [],
   "source": [
    "df1 =df"
   ]
  },
  {
   "cell_type": "code",
   "execution_count": 71,
   "id": "7ec6485f",
   "metadata": {},
   "outputs": [
    {
     "data": {
      "text/plain": [
       "Index(['fit', 'bust size', 'rented for', 'body type', 'category'], dtype='object')"
      ]
     },
     "execution_count": 71,
     "metadata": {},
     "output_type": "execute_result"
    }
   ],
   "source": [
    "df1.select_dtypes('object').columns"
   ]
  },
  {
   "cell_type": "code",
   "execution_count": 72,
   "id": "87e3fcc0",
   "metadata": {},
   "outputs": [],
   "source": [
    "from sklearn.preprocessing import LabelEncoder\n",
    "for col in df.select_dtypes('object').columns:\n",
    "    le=LabelEncoder()\n",
    "    df1[col]=le.fit_transform(df[col])"
   ]
  },
  {
   "cell_type": "code",
   "execution_count": 73,
   "id": "5acc899c",
   "metadata": {},
   "outputs": [
    {
     "data": {
      "text/html": [
       "<div>\n",
       "<style scoped>\n",
       "    .dataframe tbody tr th:only-of-type {\n",
       "        vertical-align: middle;\n",
       "    }\n",
       "\n",
       "    .dataframe tbody tr th {\n",
       "        vertical-align: top;\n",
       "    }\n",
       "\n",
       "    .dataframe thead th {\n",
       "        text-align: right;\n",
       "    }\n",
       "</style>\n",
       "<table border=\"1\" class=\"dataframe\">\n",
       "  <thead>\n",
       "    <tr style=\"text-align: right;\">\n",
       "      <th></th>\n",
       "      <th>fit</th>\n",
       "      <th>bust size</th>\n",
       "      <th>weight</th>\n",
       "      <th>rating</th>\n",
       "      <th>rented for</th>\n",
       "      <th>body type</th>\n",
       "      <th>category</th>\n",
       "      <th>height</th>\n",
       "      <th>size</th>\n",
       "      <th>age</th>\n",
       "    </tr>\n",
       "  </thead>\n",
       "  <tbody>\n",
       "    <tr>\n",
       "      <th>0</th>\n",
       "      <td>0</td>\n",
       "      <td>39</td>\n",
       "      <td>137.0</td>\n",
       "      <td>10.0</td>\n",
       "      <td>5</td>\n",
       "      <td>3</td>\n",
       "      <td>44</td>\n",
       "      <td>68.0</td>\n",
       "      <td>14</td>\n",
       "      <td>28.0</td>\n",
       "    </tr>\n",
       "    <tr>\n",
       "      <th>1</th>\n",
       "      <td>0</td>\n",
       "      <td>37</td>\n",
       "      <td>132.0</td>\n",
       "      <td>10.0</td>\n",
       "      <td>3</td>\n",
       "      <td>6</td>\n",
       "      <td>20</td>\n",
       "      <td>66.0</td>\n",
       "      <td>12</td>\n",
       "      <td>36.0</td>\n",
       "    </tr>\n",
       "    <tr>\n",
       "      <th>2</th>\n",
       "      <td>0</td>\n",
       "      <td>37</td>\n",
       "      <td>0.0</td>\n",
       "      <td>10.0</td>\n",
       "      <td>4</td>\n",
       "      <td>3</td>\n",
       "      <td>45</td>\n",
       "      <td>64.0</td>\n",
       "      <td>4</td>\n",
       "      <td>116.0</td>\n",
       "    </tr>\n",
       "    <tr>\n",
       "      <th>3</th>\n",
       "      <td>0</td>\n",
       "      <td>38</td>\n",
       "      <td>135.0</td>\n",
       "      <td>8.0</td>\n",
       "      <td>2</td>\n",
       "      <td>4</td>\n",
       "      <td>16</td>\n",
       "      <td>65.0</td>\n",
       "      <td>8</td>\n",
       "      <td>34.0</td>\n",
       "    </tr>\n",
       "    <tr>\n",
       "      <th>4</th>\n",
       "      <td>0</td>\n",
       "      <td>37</td>\n",
       "      <td>145.0</td>\n",
       "      <td>10.0</td>\n",
       "      <td>6</td>\n",
       "      <td>1</td>\n",
       "      <td>20</td>\n",
       "      <td>69.0</td>\n",
       "      <td>12</td>\n",
       "      <td>27.0</td>\n",
       "    </tr>\n",
       "    <tr>\n",
       "      <th>...</th>\n",
       "      <td>...</td>\n",
       "      <td>...</td>\n",
       "      <td>...</td>\n",
       "      <td>...</td>\n",
       "      <td>...</td>\n",
       "      <td>...</td>\n",
       "      <td>...</td>\n",
       "      <td>...</td>\n",
       "      <td>...</td>\n",
       "      <td>...</td>\n",
       "    </tr>\n",
       "    <tr>\n",
       "      <th>192539</th>\n",
       "      <td>0</td>\n",
       "      <td>41</td>\n",
       "      <td>140.0</td>\n",
       "      <td>10.0</td>\n",
       "      <td>7</td>\n",
       "      <td>3</td>\n",
       "      <td>26</td>\n",
       "      <td>69.0</td>\n",
       "      <td>8</td>\n",
       "      <td>42.0</td>\n",
       "    </tr>\n",
       "    <tr>\n",
       "      <th>192540</th>\n",
       "      <td>0</td>\n",
       "      <td>25</td>\n",
       "      <td>100.0</td>\n",
       "      <td>10.0</td>\n",
       "      <td>7</td>\n",
       "      <td>5</td>\n",
       "      <td>16</td>\n",
       "      <td>61.0</td>\n",
       "      <td>4</td>\n",
       "      <td>29.0</td>\n",
       "    </tr>\n",
       "    <tr>\n",
       "      <th>192541</th>\n",
       "      <td>0</td>\n",
       "      <td>48</td>\n",
       "      <td>135.0</td>\n",
       "      <td>6.0</td>\n",
       "      <td>1</td>\n",
       "      <td>6</td>\n",
       "      <td>16</td>\n",
       "      <td>68.0</td>\n",
       "      <td>8</td>\n",
       "      <td>31.0</td>\n",
       "    </tr>\n",
       "    <tr>\n",
       "      <th>192542</th>\n",
       "      <td>0</td>\n",
       "      <td>51</td>\n",
       "      <td>165.0</td>\n",
       "      <td>10.0</td>\n",
       "      <td>6</td>\n",
       "      <td>4</td>\n",
       "      <td>16</td>\n",
       "      <td>66.0</td>\n",
       "      <td>16</td>\n",
       "      <td>31.0</td>\n",
       "    </tr>\n",
       "    <tr>\n",
       "      <th>192543</th>\n",
       "      <td>0</td>\n",
       "      <td>50</td>\n",
       "      <td>155.0</td>\n",
       "      <td>10.0</td>\n",
       "      <td>6</td>\n",
       "      <td>1</td>\n",
       "      <td>20</td>\n",
       "      <td>66.0</td>\n",
       "      <td>16</td>\n",
       "      <td>30.0</td>\n",
       "    </tr>\n",
       "  </tbody>\n",
       "</table>\n",
       "<p>192544 rows × 10 columns</p>\n",
       "</div>"
      ],
      "text/plain": [
       "        fit  bust size  weight  rating  rented for  body type  category  \\\n",
       "0         0         39   137.0    10.0           5          3        44   \n",
       "1         0         37   132.0    10.0           3          6        20   \n",
       "2         0         37     0.0    10.0           4          3        45   \n",
       "3         0         38   135.0     8.0           2          4        16   \n",
       "4         0         37   145.0    10.0           6          1        20   \n",
       "...     ...        ...     ...     ...         ...        ...       ...   \n",
       "192539    0         41   140.0    10.0           7          3        26   \n",
       "192540    0         25   100.0    10.0           7          5        16   \n",
       "192541    0         48   135.0     6.0           1          6        16   \n",
       "192542    0         51   165.0    10.0           6          4        16   \n",
       "192543    0         50   155.0    10.0           6          1        20   \n",
       "\n",
       "        height  size    age  \n",
       "0         68.0    14   28.0  \n",
       "1         66.0    12   36.0  \n",
       "2         64.0     4  116.0  \n",
       "3         65.0     8   34.0  \n",
       "4         69.0    12   27.0  \n",
       "...        ...   ...    ...  \n",
       "192539    69.0     8   42.0  \n",
       "192540    61.0     4   29.0  \n",
       "192541    68.0     8   31.0  \n",
       "192542    66.0    16   31.0  \n",
       "192543    66.0    16   30.0  \n",
       "\n",
       "[192544 rows x 10 columns]"
      ]
     },
     "execution_count": 73,
     "metadata": {},
     "output_type": "execute_result"
    }
   ],
   "source": [
    "df1"
   ]
  },
  {
   "cell_type": "code",
   "execution_count": 74,
   "id": "82a6014d",
   "metadata": {},
   "outputs": [
    {
     "name": "stdout",
     "output_type": "stream",
     "text": [
      "All features are now scaled\n"
     ]
    }
   ],
   "source": [
    "ds=df.select_dtypes(include=['int64','float64'])\n",
    "scaler = StandardScaler()\n",
    "scaler.fit(ds)\n",
    "scaled_ds =pd.DataFrame(scaler.transform(ds),columns=ds.columns)\n",
    "print(\"All features are now scaled\")"
   ]
  },
  {
   "cell_type": "code",
   "execution_count": 75,
   "id": "7e989d97",
   "metadata": {},
   "outputs": [
    {
     "data": {
      "text/html": [
       "<div>\n",
       "<style scoped>\n",
       "    .dataframe tbody tr th:only-of-type {\n",
       "        vertical-align: middle;\n",
       "    }\n",
       "\n",
       "    .dataframe tbody tr th {\n",
       "        vertical-align: top;\n",
       "    }\n",
       "\n",
       "    .dataframe thead th {\n",
       "        text-align: right;\n",
       "    }\n",
       "</style>\n",
       "<table border=\"1\" class=\"dataframe\">\n",
       "  <thead>\n",
       "    <tr style=\"text-align: right;\">\n",
       "      <th></th>\n",
       "      <th>weight</th>\n",
       "      <th>rating</th>\n",
       "      <th>height</th>\n",
       "      <th>size</th>\n",
       "      <th>age</th>\n",
       "    </tr>\n",
       "  </thead>\n",
       "  <tbody>\n",
       "    <tr>\n",
       "      <th>0</th>\n",
       "      <td>0.390908</td>\n",
       "      <td>0.634498</td>\n",
       "      <td>1.011893</td>\n",
       "      <td>0.206575</td>\n",
       "      <td>-0.729154</td>\n",
       "    </tr>\n",
       "    <tr>\n",
       "      <th>1</th>\n",
       "      <td>0.297845</td>\n",
       "      <td>0.634498</td>\n",
       "      <td>0.259688</td>\n",
       "      <td>-0.028862</td>\n",
       "      <td>0.265991</td>\n",
       "    </tr>\n",
       "    <tr>\n",
       "      <th>2</th>\n",
       "      <td>-2.159027</td>\n",
       "      <td>0.634498</td>\n",
       "      <td>-0.492517</td>\n",
       "      <td>-0.970608</td>\n",
       "      <td>10.217442</td>\n",
       "    </tr>\n",
       "    <tr>\n",
       "      <th>3</th>\n",
       "      <td>0.353683</td>\n",
       "      <td>-0.764242</td>\n",
       "      <td>-0.116415</td>\n",
       "      <td>-0.499735</td>\n",
       "      <td>0.017205</td>\n",
       "    </tr>\n",
       "    <tr>\n",
       "      <th>4</th>\n",
       "      <td>0.539809</td>\n",
       "      <td>0.634498</td>\n",
       "      <td>1.387995</td>\n",
       "      <td>-0.028862</td>\n",
       "      <td>-0.853547</td>\n",
       "    </tr>\n",
       "    <tr>\n",
       "      <th>...</th>\n",
       "      <td>...</td>\n",
       "      <td>...</td>\n",
       "      <td>...</td>\n",
       "      <td>...</td>\n",
       "      <td>...</td>\n",
       "    </tr>\n",
       "    <tr>\n",
       "      <th>192539</th>\n",
       "      <td>0.446746</td>\n",
       "      <td>0.634498</td>\n",
       "      <td>1.387995</td>\n",
       "      <td>-0.499735</td>\n",
       "      <td>1.012350</td>\n",
       "    </tr>\n",
       "    <tr>\n",
       "      <th>192540</th>\n",
       "      <td>-0.297761</td>\n",
       "      <td>0.634498</td>\n",
       "      <td>-1.620824</td>\n",
       "      <td>-0.970608</td>\n",
       "      <td>-0.604761</td>\n",
       "    </tr>\n",
       "    <tr>\n",
       "      <th>192541</th>\n",
       "      <td>0.353683</td>\n",
       "      <td>-2.162982</td>\n",
       "      <td>1.011893</td>\n",
       "      <td>-0.499735</td>\n",
       "      <td>-0.355974</td>\n",
       "    </tr>\n",
       "    <tr>\n",
       "      <th>192542</th>\n",
       "      <td>0.912063</td>\n",
       "      <td>0.634498</td>\n",
       "      <td>0.259688</td>\n",
       "      <td>0.442012</td>\n",
       "      <td>-0.355974</td>\n",
       "    </tr>\n",
       "    <tr>\n",
       "      <th>192543</th>\n",
       "      <td>0.725936</td>\n",
       "      <td>0.634498</td>\n",
       "      <td>0.259688</td>\n",
       "      <td>0.442012</td>\n",
       "      <td>-0.480368</td>\n",
       "    </tr>\n",
       "  </tbody>\n",
       "</table>\n",
       "<p>192544 rows × 5 columns</p>\n",
       "</div>"
      ],
      "text/plain": [
       "          weight    rating    height      size        age\n",
       "0       0.390908  0.634498  1.011893  0.206575  -0.729154\n",
       "1       0.297845  0.634498  0.259688 -0.028862   0.265991\n",
       "2      -2.159027  0.634498 -0.492517 -0.970608  10.217442\n",
       "3       0.353683 -0.764242 -0.116415 -0.499735   0.017205\n",
       "4       0.539809  0.634498  1.387995 -0.028862  -0.853547\n",
       "...          ...       ...       ...       ...        ...\n",
       "192539  0.446746  0.634498  1.387995 -0.499735   1.012350\n",
       "192540 -0.297761  0.634498 -1.620824 -0.970608  -0.604761\n",
       "192541  0.353683 -2.162982  1.011893 -0.499735  -0.355974\n",
       "192542  0.912063  0.634498  0.259688  0.442012  -0.355974\n",
       "192543  0.725936  0.634498  0.259688  0.442012  -0.480368\n",
       "\n",
       "[192544 rows x 5 columns]"
      ]
     },
     "execution_count": 75,
     "metadata": {},
     "output_type": "execute_result"
    }
   ],
   "source": [
    "scaled_ds"
   ]
  },
  {
   "cell_type": "code",
   "execution_count": 76,
   "id": "2f031e87",
   "metadata": {},
   "outputs": [
    {
     "name": "stdout",
     "output_type": "stream",
     "text": [
      "Covariance matrix \n",
      " [[ 1.00000519 -0.01067186  0.09999958  0.08772758  0.06137198]\n",
      " [-0.01067186  1.00000519  0.00174836 -0.03672869 -0.03513107]\n",
      " [ 0.09999958  0.00174836  1.00000519  0.22842543 -0.00728095]\n",
      " [ 0.08772758 -0.03672869  0.22842543  1.00000519  0.15512023]\n",
      " [ 0.06137198 -0.03513107 -0.00728095  0.15512023  1.00000519]]\n"
     ]
    }
   ],
   "source": [
    "## Calculating covariance matrix\n",
    "cov_matrix = np.cov(scaled_ds.T)\n",
    "print('Covariance matrix','\\n',cov_matrix)"
   ]
  },
  {
   "cell_type": "code",
   "execution_count": 78,
   "id": "667abb94",
   "metadata": {},
   "outputs": [
    {
     "name": "stdout",
     "output_type": "stream",
     "text": [
      "Eigen vectors: \n",
      " [[-0.39274891  0.08859475 -0.10206895 -0.90407675  0.10063016]\n",
      " [ 0.11636651  0.04571497 -0.63715251  0.10962975  0.75258685]\n",
      " [-0.53764259 -0.59690653 -0.47136023  0.19400967 -0.30793314]\n",
      " [-0.6409564   0.68495649  0.00105386  0.34633124  0.00794109]\n",
      " [-0.36376155 -0.40570718  0.60119633  0.11419924  0.57323706]]\n",
      "\n",
      "\n",
      "Eigen values: \n",
      " [1.34007031 0.71795973 1.03279831 0.93848125 0.97071637]\n"
     ]
    }
   ],
   "source": [
    "## Calculating eigen values and eigen vectors\n",
    "eig_vals, eig_vecs = np.linalg.eig(cov_matrix)\n",
    "print('Eigen vectors:','\\n',eig_vecs)\n",
    "print('\\n')\n",
    "print('Eigen values:','\\n',eig_vals)"
   ]
  },
  {
   "cell_type": "code",
   "execution_count": 79,
   "id": "f044f7e0",
   "metadata": {},
   "outputs": [
    {
     "name": "stdout",
     "output_type": "stream",
     "text": [
      "5.00002596822528\n",
      "Variance Explained:  [26.80126705757342, 20.655859011281112, 19.414226475001286, 18.76952747785078, 14.359119978293416]\n",
      "Cummulative Variance Explained:  [ 26.80126706  47.45712607  66.87135254  85.64088002 100.        ]\n"
     ]
    }
   ],
   "source": [
    "## Calculating the Variance explained and the cummulative variance explained\n",
    "total = sum(eig_vals)\n",
    "print(total)\n",
    "var_exp = [ (i/total)*100  for i in sorted(eig_vals,reverse=True)]\n",
    "cum_var_exp = np.cumsum(var_exp)\n",
    "print('Variance Explained: ',var_exp)\n",
    "print('Cummulative Variance Explained: ',cum_var_exp)"
   ]
  },
  {
   "cell_type": "code",
   "execution_count": 80,
   "id": "39fd47af",
   "metadata": {},
   "outputs": [
    {
     "data": {
      "image/png": "[encoded data removed]",
      "text/plain": [
       "<Figure size 432x288 with 1 Axes>"
      ]
     },
     "metadata": {
      "needs_background": "light"
     },
     "output_type": "display_data"
    }
   ],
   "source": [
    "## Scree plot\n",
    "plt.bar(range(5),var_exp, align='center',color='lightgreen',edgecolor='black',label='Indiviual Explained Varinace')\n",
    "plt.step(range(5), cum_var_exp, where='mid',color='red',label='Cummulative explained Variance')\n",
    "plt.legend(loc = 'best')\n",
    "plt.ylabel('Explained Variance Ratio')\n",
    "plt.xlabel('Principal Components')\n",
    "plt.tight_layout()\n",
    "plt.show()"
   ]
  },
  {
   "cell_type": "code",
   "execution_count": 81,
   "id": "81f546e6",
   "metadata": {},
   "outputs": [
    {
     "data": {
      "text/html": [
       "<style>#sk-container-id-1 {color: black;background-color: white;}#sk-container-id-1 pre{padding: 0;}#sk-container-id-1 div.sk-toggleable {background-color: white;}#sk-container-id-1 label.sk-toggleable__label {cursor: pointer;display: block;width: 100%;margin-bottom: 0;padding: 0.3em;box-sizing: border-box;text-align: center;}#sk-container-id-1 label.sk-toggleable__label-arrow:before {content: \"▸\";float: left;margin-right: 0.25em;color: #696969;}#sk-container-id-1 label.sk-toggleable__label-arrow:hover:before {color: black;}#sk-container-id-1 div.sk-estimator:hover label.sk-toggleable__label-arrow:before {color: black;}#sk-container-id-1 div.sk-toggleable__content {max-height: 0;max-width: 0;overflow: hidden;text-align: left;background-color: #f0f8ff;}#sk-container-id-1 div.sk-toggleable__content pre {margin: 0.2em;color: black;border-radius: 0.25em;background-color: #f0f8ff;}#sk-container-id-1 input.sk-toggleable__control:checked~div.sk-toggleable__content {max-height: 200px;max-width: 100%;overflow: auto;}#sk-container-id-1 input.sk-toggleable__control:checked~label.sk-toggleable__label-arrow:before {content: \"▾\";}#sk-container-id-1 div.sk-estimator input.sk-toggleable__control:checked~label.sk-toggleable__label {background-color: #d4ebff;}#sk-container-id-1 div.sk-label input.sk-toggleable__control:checked~label.sk-toggleable__label {background-color: #d4ebff;}#sk-container-id-1 input.sk-hidden--visually {border: 0;clip: rect(1px 1px 1px 1px);clip: rect(1px, 1px, 1px, 1px);height: 1px;margin: -1px;overflow: hidden;padding: 0;position: absolute;width: 1px;}#sk-container-id-1 div.sk-estimator {font-family: monospace;background-color: #f0f8ff;border: 1px dotted black;border-radius: 0.25em;box-sizing: border-box;margin-bottom: 0.5em;}#sk-container-id-1 div.sk-estimator:hover {background-color: #d4ebff;}#sk-container-id-1 div.sk-parallel-item::after {content: \"\";width: 100%;border-bottom: 1px solid gray;flex-grow: 1;}#sk-container-id-1 div.sk-label:hover label.sk-toggleable__label {background-color: #d4ebff;}#sk-container-id-1 div.sk-serial::before {content: \"\";position: absolute;border-left: 1px solid gray;box-sizing: border-box;top: 0;bottom: 0;left: 50%;z-index: 0;}#sk-container-id-1 div.sk-serial {display: flex;flex-direction: column;align-items: center;background-color: white;padding-right: 0.2em;padding-left: 0.2em;position: relative;}#sk-container-id-1 div.sk-item {position: relative;z-index: 1;}#sk-container-id-1 div.sk-parallel {display: flex;align-items: stretch;justify-content: center;background-color: white;position: relative;}#sk-container-id-1 div.sk-item::before, #sk-container-id-1 div.sk-parallel-item::before {content: \"\";position: absolute;border-left: 1px solid gray;box-sizing: border-box;top: 0;bottom: 0;left: 50%;z-index: -1;}#sk-container-id-1 div.sk-parallel-item {display: flex;flex-direction: column;z-index: 1;position: relative;background-color: white;}#sk-container-id-1 div.sk-parallel-item:first-child::after {align-self: flex-end;width: 50%;}#sk-container-id-1 div.sk-parallel-item:last-child::after {align-self: flex-start;width: 50%;}#sk-container-id-1 div.sk-parallel-item:only-child::after {width: 0;}#sk-container-id-1 div.sk-dashed-wrapped {border: 1px dashed gray;margin: 0 0.4em 0.5em 0.4em;box-sizing: border-box;padding-bottom: 0.4em;background-color: white;}#sk-container-id-1 div.sk-label label {font-family: monospace;font-weight: bold;display: inline-block;line-height: 1.2em;}#sk-container-id-1 div.sk-label-container {text-align: center;}#sk-container-id-1 div.sk-container {/* jupyter's `normalize.less` sets `[hidden] { display: none; }` but bootstrap.min.css set `[hidden] { display: none !important; }` so we also need the `!important` here to be able to override the default hidden behavior on the sphinx rendered scikit-learn.org. See: https://github.com/scikit-learn/scikit-learn/issues/21755 */display: inline-block !important;position: relative;}#sk-container-id-1 div.sk-text-repr-fallback {display: none;}</style><div id=\"sk-container-id-1\" class=\"sk-top-container\"><div class=\"sk-text-repr-fallback\"><pre>PCA(n_components=5)</pre><b>In a Jupyter environment, please rerun this cell to show the HTML representation or trust the notebook. <br />On GitHub, the HTML representation is unable to render, please try loading this page with nbviewer.org.</b></div><div class=\"sk-container\" hidden><div class=\"sk-item\"><div class=\"sk-estimator sk-toggleable\"><input class=\"sk-toggleable__control sk-hidden--visually\" id=\"sk-estimator-id-1\" type=\"checkbox\" checked><label for=\"sk-estimator-id-1\" class=\"sk-toggleable__label sk-toggleable__label-arrow\">PCA</label><div class=\"sk-toggleable__content\"><pre>PCA(n_components=5)</pre></div></div></div></div></div>"
      ],
      "text/plain": [
       "PCA(n_components=5)"
      ]
     },
     "execution_count": 81,
     "metadata": {},
     "output_type": "execute_result"
    }
   ],
   "source": [
    "## Fitting the PCA model\n",
    "pca=PCA(n_components = 5)\n",
    "pca.fit(scaled_ds)"
   ]
  },
  {
   "cell_type": "code",
   "execution_count": 82,
   "id": "e52ccada",
   "metadata": {},
   "outputs": [
    {
     "data": {
      "text/html": [
       "<div>\n",
       "<style scoped>\n",
       "    .dataframe tbody tr th:only-of-type {\n",
       "        vertical-align: middle;\n",
       "    }\n",
       "\n",
       "    .dataframe tbody tr th {\n",
       "        vertical-align: top;\n",
       "    }\n",
       "\n",
       "    .dataframe thead th {\n",
       "        text-align: right;\n",
       "    }\n",
       "</style>\n",
       "<table border=\"1\" class=\"dataframe\">\n",
       "  <thead>\n",
       "    <tr style=\"text-align: right;\">\n",
       "      <th></th>\n",
       "      <th>PC1</th>\n",
       "      <th>PC2</th>\n",
       "      <th>PC3</th>\n",
       "      <th>PC4</th>\n",
       "      <th>PC5</th>\n",
       "    </tr>\n",
       "  </thead>\n",
       "  <tbody>\n",
       "    <tr>\n",
       "      <th>0</th>\n",
       "      <td>0.490898</td>\n",
       "      <td>-1.359284</td>\n",
       "      <td>-0.211081</td>\n",
       "      <td>-0.099259</td>\n",
       "      <td>0.103049</td>\n",
       "    </tr>\n",
       "    <tr>\n",
       "      <th>1</th>\n",
       "      <td>0.261021</td>\n",
       "      <td>-0.397196</td>\n",
       "      <td>0.579767</td>\n",
       "      <td>-0.128952</td>\n",
       "      <td>0.227299</td>\n",
       "    </tr>\n",
       "    <tr>\n",
       "      <th>2</th>\n",
       "      <td>1.908007</td>\n",
       "      <td>6.189917</td>\n",
       "      <td>6.261222</td>\n",
       "      <td>2.756605</td>\n",
       "      <td>4.678400</td>\n",
       "    </tr>\n",
       "    <tr>\n",
       "      <th>3</th>\n",
       "      <td>-0.148799</td>\n",
       "      <td>0.515529</td>\n",
       "      <td>-0.497825</td>\n",
       "      <td>-0.597234</td>\n",
       "      <td>0.283391</td>\n",
       "    </tr>\n",
       "    <tr>\n",
       "      <th>4</th>\n",
       "      <td>0.555434</td>\n",
       "      <td>-1.626795</td>\n",
       "      <td>-0.385088</td>\n",
       "      <td>-0.256655</td>\n",
       "      <td>0.425152</td>\n",
       "    </tr>\n",
       "  </tbody>\n",
       "</table>\n",
       "</div>"
      ],
      "text/plain": [
       "        PC1       PC2       PC3       PC4       PC5\n",
       "0  0.490898 -1.359284 -0.211081 -0.099259  0.103049\n",
       "1  0.261021 -0.397196  0.579767 -0.128952  0.227299\n",
       "2  1.908007  6.189917  6.261222  2.756605  4.678400\n",
       "3 -0.148799  0.515529 -0.497825 -0.597234  0.283391\n",
       "4  0.555434 -1.626795 -0.385088 -0.256655  0.425152"
      ]
     },
     "execution_count": 82,
     "metadata": {},
     "output_type": "execute_result"
    }
   ],
   "source": [
    "data_pca = pca.transform(scaled_ds)\n",
    "data_pca = pd.DataFrame(data_pca,columns=['PC1','PC2','PC3','PC4','PC5'])\n",
    "data_pca.head()"
   ]
  },
  {
   "cell_type": "code",
   "execution_count": 83,
   "id": "8ec4ca51",
   "metadata": {},
   "outputs": [
    {
     "data": {
      "text/html": [
       "<div>\n",
       "<style scoped>\n",
       "    .dataframe tbody tr th:only-of-type {\n",
       "        vertical-align: middle;\n",
       "    }\n",
       "\n",
       "    .dataframe tbody tr th {\n",
       "        vertical-align: top;\n",
       "    }\n",
       "\n",
       "    .dataframe thead th {\n",
       "        text-align: right;\n",
       "    }\n",
       "</style>\n",
       "<table border=\"1\" class=\"dataframe\">\n",
       "  <thead>\n",
       "    <tr style=\"text-align: right;\">\n",
       "      <th></th>\n",
       "      <th>num_clusters</th>\n",
       "      <th>cluster_errors</th>\n",
       "    </tr>\n",
       "  </thead>\n",
       "  <tbody>\n",
       "    <tr>\n",
       "      <th>0</th>\n",
       "      <td>1</td>\n",
       "      <td>962720.000000</td>\n",
       "    </tr>\n",
       "    <tr>\n",
       "      <th>1</th>\n",
       "      <td>2</td>\n",
       "      <td>788807.137006</td>\n",
       "    </tr>\n",
       "    <tr>\n",
       "      <th>2</th>\n",
       "      <td>3</td>\n",
       "      <td>652741.403493</td>\n",
       "    </tr>\n",
       "    <tr>\n",
       "      <th>3</th>\n",
       "      <td>4</td>\n",
       "      <td>566721.637515</td>\n",
       "    </tr>\n",
       "    <tr>\n",
       "      <th>4</th>\n",
       "      <td>5</td>\n",
       "      <td>490585.684161</td>\n",
       "    </tr>\n",
       "    <tr>\n",
       "      <th>5</th>\n",
       "      <td>6</td>\n",
       "      <td>440250.697641</td>\n",
       "    </tr>\n",
       "    <tr>\n",
       "      <th>6</th>\n",
       "      <td>7</td>\n",
       "      <td>411221.670926</td>\n",
       "    </tr>\n",
       "    <tr>\n",
       "      <th>7</th>\n",
       "      <td>8</td>\n",
       "      <td>388408.918452</td>\n",
       "    </tr>\n",
       "    <tr>\n",
       "      <th>8</th>\n",
       "      <td>9</td>\n",
       "      <td>364435.098805</td>\n",
       "    </tr>\n",
       "    <tr>\n",
       "      <th>9</th>\n",
       "      <td>10</td>\n",
       "      <td>350079.051891</td>\n",
       "    </tr>\n",
       "    <tr>\n",
       "      <th>10</th>\n",
       "      <td>11</td>\n",
       "      <td>333599.435772</td>\n",
       "    </tr>\n",
       "    <tr>\n",
       "      <th>11</th>\n",
       "      <td>12</td>\n",
       "      <td>317358.684090</td>\n",
       "    </tr>\n",
       "    <tr>\n",
       "      <th>12</th>\n",
       "      <td>13</td>\n",
       "      <td>305527.793288</td>\n",
       "    </tr>\n",
       "    <tr>\n",
       "      <th>13</th>\n",
       "      <td>14</td>\n",
       "      <td>293774.623345</td>\n",
       "    </tr>\n",
       "  </tbody>\n",
       "</table>\n",
       "</div>"
      ],
      "text/plain": [
       "    num_clusters  cluster_errors\n",
       "0              1   962720.000000\n",
       "1              2   788807.137006\n",
       "2              3   652741.403493\n",
       "3              4   566721.637515\n",
       "4              5   490585.684161\n",
       "5              6   440250.697641\n",
       "6              7   411221.670926\n",
       "7              8   388408.918452\n",
       "8              9   364435.098805\n",
       "9             10   350079.051891\n",
       "10            11   333599.435772\n",
       "11            12   317358.684090\n",
       "12            13   305527.793288\n",
       "13            14   293774.623345"
      ]
     },
     "execution_count": 83,
     "metadata": {},
     "output_type": "execute_result"
    }
   ],
   "source": [
    "cluster_range = range(1,15)\n",
    "cluster_errors = []\n",
    "\n",
    "for num_clusters in cluster_range:\n",
    "   \n",
    "    clusters = KMeans(num_clusters, n_init=5)\n",
    "    clusters.fit(data_pca)\n",
    "    \n",
    "    labels = clusters.labels_\n",
    "    centroids = clusters.cluster_centers_\n",
    "    \n",
    "    cluster_errors.append(clusters.inertia_)\n",
    "\n",
    "clusters_df = pd.DataFrame({'num_clusters':cluster_range, \n",
    "                           'cluster_errors':cluster_errors})\n",
    "\n",
    "clusters_df"
   ]
  },
  {
   "cell_type": "code",
   "execution_count": 85,
   "id": "8fd0d4e4",
   "metadata": {},
   "outputs": [
    {
     "data": {
      "image/png": "[encoded data removed]",
      "text/plain": [
       "<Figure size 1080x360 with 1 Axes>"
      ]
     },
     "metadata": {
      "needs_background": "light"
     },
     "output_type": "display_data"
    }
   ],
   "source": [
    "# Elbow method\n",
    "plt.figure(figsize=[15,5])\n",
    "plt.title('The Elbow Method')\n",
    "plt.xlabel('Number of clusters using PCA')\n",
    "plt.plot(clusters_df['num_clusters'],clusters_df['cluster_errors'],marker='o',color='b')\n",
    "plt.show()"
   ]
  },
  {
   "cell_type": "code",
   "execution_count": 86,
   "id": "358c55e2",
   "metadata": {},
   "outputs": [
    {
     "data": {
      "text/html": [
       "<style>#sk-container-id-3 {color: black;background-color: white;}#sk-container-id-3 pre{padding: 0;}#sk-container-id-3 div.sk-toggleable {background-color: white;}#sk-container-id-3 label.sk-toggleable__label {cursor: pointer;display: block;width: 100%;margin-bottom: 0;padding: 0.3em;box-sizing: border-box;text-align: center;}#sk-container-id-3 label.sk-toggleable__label-arrow:before {content: \"▸\";float: left;margin-right: 0.25em;color: #696969;}#sk-container-id-3 label.sk-toggleable__label-arrow:hover:before {color: black;}#sk-container-id-3 div.sk-estimator:hover label.sk-toggleable__label-arrow:before {color: black;}#sk-container-id-3 div.sk-toggleable__content {max-height: 0;max-width: 0;overflow: hidden;text-align: left;background-color: #f0f8ff;}#sk-container-id-3 div.sk-toggleable__content pre {margin: 0.2em;color: black;border-radius: 0.25em;background-color: #f0f8ff;}#sk-container-id-3 input.sk-toggleable__control:checked~div.sk-toggleable__content {max-height: 200px;max-width: 100%;overflow: auto;}#sk-container-id-3 input.sk-toggleable__control:checked~label.sk-toggleable__label-arrow:before {content: \"▾\";}#sk-container-id-3 div.sk-estimator input.sk-toggleable__control:checked~label.sk-toggleable__label {background-color: #d4ebff;}#sk-container-id-3 div.sk-label input.sk-toggleable__control:checked~label.sk-toggleable__label {background-color: #d4ebff;}#sk-container-id-3 input.sk-hidden--visually {border: 0;clip: rect(1px 1px 1px 1px);clip: rect(1px, 1px, 1px, 1px);height: 1px;margin: -1px;overflow: hidden;padding: 0;position: absolute;width: 1px;}#sk-container-id-3 div.sk-estimator {font-family: monospace;background-color: #f0f8ff;border: 1px dotted black;border-radius: 0.25em;box-sizing: border-box;margin-bottom: 0.5em;}#sk-container-id-3 div.sk-estimator:hover {background-color: #d4ebff;}#sk-container-id-3 div.sk-parallel-item::after {content: \"\";width: 100%;border-bottom: 1px solid gray;flex-grow: 1;}#sk-container-id-3 div.sk-label:hover label.sk-toggleable__label {background-color: #d4ebff;}#sk-container-id-3 div.sk-serial::before {content: \"\";position: absolute;border-left: 1px solid gray;box-sizing: border-box;top: 0;bottom: 0;left: 50%;z-index: 0;}#sk-container-id-3 div.sk-serial {display: flex;flex-direction: column;align-items: center;background-color: white;padding-right: 0.2em;padding-left: 0.2em;position: relative;}#sk-container-id-3 div.sk-item {position: relative;z-index: 1;}#sk-container-id-3 div.sk-parallel {display: flex;align-items: stretch;justify-content: center;background-color: white;position: relative;}#sk-container-id-3 div.sk-item::before, #sk-container-id-3 div.sk-parallel-item::before {content: \"\";position: absolute;border-left: 1px solid gray;box-sizing: border-box;top: 0;bottom: 0;left: 50%;z-index: -1;}#sk-container-id-3 div.sk-parallel-item {display: flex;flex-direction: column;z-index: 1;position: relative;background-color: white;}#sk-container-id-3 div.sk-parallel-item:first-child::after {align-self: flex-end;width: 50%;}#sk-container-id-3 div.sk-parallel-item:last-child::after {align-self: flex-start;width: 50%;}#sk-container-id-3 div.sk-parallel-item:only-child::after {width: 0;}#sk-container-id-3 div.sk-dashed-wrapped {border: 1px dashed gray;margin: 0 0.4em 0.5em 0.4em;box-sizing: border-box;padding-bottom: 0.4em;background-color: white;}#sk-container-id-3 div.sk-label label {font-family: monospace;font-weight: bold;display: inline-block;line-height: 1.2em;}#sk-container-id-3 div.sk-label-container {text-align: center;}#sk-container-id-3 div.sk-container {/* jupyter's `normalize.less` sets `[hidden] { display: none; }` but bootstrap.min.css set `[hidden] { display: none !important; }` so we also need the `!important` here to be able to override the default hidden behavior on the sphinx rendered scikit-learn.org. See: https://github.com/scikit-learn/scikit-learn/issues/21755 */display: inline-block !important;position: relative;}#sk-container-id-3 div.sk-text-repr-fallback {display: none;}</style><div id=\"sk-container-id-3\" class=\"sk-top-container\"><div class=\"sk-text-repr-fallback\"><pre>KMeans(n_clusters=5, n_init=15, random_state=100)</pre><b>In a Jupyter environment, please rerun this cell to show the HTML representation or trust the notebook. <br />On GitHub, the HTML representation is unable to render, please try loading this page with nbviewer.org.</b></div><div class=\"sk-container\" hidden><div class=\"sk-item\"><div class=\"sk-estimator sk-toggleable\"><input class=\"sk-toggleable__control sk-hidden--visually\" id=\"sk-estimator-id-3\" type=\"checkbox\" checked><label for=\"sk-estimator-id-3\" class=\"sk-toggleable__label sk-toggleable__label-arrow\">KMeans</label><div class=\"sk-toggleable__content\"><pre>KMeans(n_clusters=5, n_init=15, random_state=100)</pre></div></div></div></div></div>"
      ],
      "text/plain": [
       "KMeans(n_clusters=5, n_init=15, random_state=100)"
      ]
     },
     "execution_count": 86,
     "metadata": {},
     "output_type": "execute_result"
    }
   ],
   "source": [
    "## Fit the KMeans clustering model using the obtained optimal K\n",
    "kmeans = KMeans(n_clusters=5, n_init=15, random_state=100)\n",
    "kmeans.fit(data_pca)"
   ]
  },
  {
   "cell_type": "code",
   "execution_count": 87,
   "id": "7d2081b3",
   "metadata": {},
   "outputs": [
    {
     "data": {
      "text/plain": [
       "array([3, 3, 1, ..., 2, 3, 3])"
      ]
     },
     "execution_count": 87,
     "metadata": {},
     "output_type": "execute_result"
    }
   ],
   "source": [
    "## obtained labels from kmeans clustering\n",
    "kmeans.labels_"
   ]
  },
  {
   "cell_type": "code",
   "execution_count": 88,
   "id": "e0879145",
   "metadata": {},
   "outputs": [
    {
     "data": {
      "text/html": [
       "<div>\n",
       "<style scoped>\n",
       "    .dataframe tbody tr th:only-of-type {\n",
       "        vertical-align: middle;\n",
       "    }\n",
       "\n",
       "    .dataframe tbody tr th {\n",
       "        vertical-align: top;\n",
       "    }\n",
       "\n",
       "    .dataframe thead th {\n",
       "        text-align: right;\n",
       "    }\n",
       "</style>\n",
       "<table border=\"1\" class=\"dataframe\">\n",
       "  <thead>\n",
       "    <tr style=\"text-align: right;\">\n",
       "      <th></th>\n",
       "      <th>PC1</th>\n",
       "      <th>PC2</th>\n",
       "      <th>PC3</th>\n",
       "      <th>PC4</th>\n",
       "      <th>PC5</th>\n",
       "      <th>Labels</th>\n",
       "    </tr>\n",
       "  </thead>\n",
       "  <tbody>\n",
       "    <tr>\n",
       "      <th>0</th>\n",
       "      <td>0.490898</td>\n",
       "      <td>-1.359284</td>\n",
       "      <td>-0.211081</td>\n",
       "      <td>-0.099259</td>\n",
       "      <td>0.103049</td>\n",
       "      <td>3</td>\n",
       "    </tr>\n",
       "    <tr>\n",
       "      <th>1</th>\n",
       "      <td>0.261021</td>\n",
       "      <td>-0.397196</td>\n",
       "      <td>0.579767</td>\n",
       "      <td>-0.128952</td>\n",
       "      <td>0.227299</td>\n",
       "      <td>3</td>\n",
       "    </tr>\n",
       "    <tr>\n",
       "      <th>2</th>\n",
       "      <td>1.908007</td>\n",
       "      <td>6.189917</td>\n",
       "      <td>6.261222</td>\n",
       "      <td>2.756605</td>\n",
       "      <td>4.678400</td>\n",
       "      <td>1</td>\n",
       "    </tr>\n",
       "    <tr>\n",
       "      <th>3</th>\n",
       "      <td>-0.148799</td>\n",
       "      <td>0.515529</td>\n",
       "      <td>-0.497825</td>\n",
       "      <td>-0.597234</td>\n",
       "      <td>0.283391</td>\n",
       "      <td>0</td>\n",
       "    </tr>\n",
       "    <tr>\n",
       "      <th>4</th>\n",
       "      <td>0.555434</td>\n",
       "      <td>-1.626795</td>\n",
       "      <td>-0.385088</td>\n",
       "      <td>-0.256655</td>\n",
       "      <td>0.425152</td>\n",
       "      <td>3</td>\n",
       "    </tr>\n",
       "  </tbody>\n",
       "</table>\n",
       "</div>"
      ],
      "text/plain": [
       "        PC1       PC2       PC3       PC4       PC5  Labels\n",
       "0  0.490898 -1.359284 -0.211081 -0.099259  0.103049       3\n",
       "1  0.261021 -0.397196  0.579767 -0.128952  0.227299       3\n",
       "2  1.908007  6.189917  6.261222  2.756605  4.678400       1\n",
       "3 -0.148799  0.515529 -0.497825 -0.597234  0.283391       0\n",
       "4  0.555434 -1.626795 -0.385088 -0.256655  0.425152       3"
      ]
     },
     "execution_count": 88,
     "metadata": {},
     "output_type": "execute_result"
    }
   ],
   "source": [
    "## Creating a new dataframe only for labels.\n",
    "df_labels = pd.DataFrame(kmeans.labels_, columns=list(['Labels']))\n",
    "kmeans_df=data_pca.join(df_labels)\n",
    "kmeans_df.head(5)"
   ]
  },
  {
   "cell_type": "code",
   "execution_count": 89,
   "id": "e631f9e4",
   "metadata": {},
   "outputs": [
    {
     "data": {
      "text/plain": [
       "0    72514\n",
       "3    55105\n",
       "4    28368\n",
       "1    23704\n",
       "2    12853\n",
       "Name: Labels, dtype: int64"
      ]
     },
     "execution_count": 89,
     "metadata": {},
     "output_type": "execute_result"
    }
   ],
   "source": [
    "kmeans_df['Labels'].value_counts()"
   ]
  },
  {
   "cell_type": "code",
   "execution_count": 92,
   "id": "639c0585",
   "metadata": {},
   "outputs": [
    {
     "name": "stdout",
     "output_type": "stream",
     "text": [
      "2 0.317327286901354\n",
      "3 0.22580867520389405\n",
      "4 0.2232467980353854\n",
      "5 0.24602597682025806\n",
      "6 0.2307706989139431\n"
     ]
    }
   ],
   "source": [
    "from sklearn.metrics import silhouette_score\n",
    "kmeans_score = []\n",
    "\n",
    "for i in range(2,7):\n",
    "    kmeans = KMeans(n_clusters=i)\n",
    "    kmeans = kmeans.fit(data_pca)\n",
    "    labels = kmeans.predict(data_pca)\n",
    "    print(i,silhouette_score(data_pca,labels))"
   ]
  },
  {
   "cell_type": "code",
   "execution_count": 93,
   "id": "90c0cbf3",
   "metadata": {},
   "outputs": [],
   "source": [
    "from scipy.cluster.hierarchy import ward, fcluster\n",
    "from scipy.spatial.distance import pdist\n",
    "from sklearn.cluster import AgglomerativeClustering\n",
    "from scipy.cluster.hierarchy import dendrogram, linkage\n",
    "from scipy.spatial import distance"
   ]
  },
  {
   "cell_type": "code",
   "execution_count": 94,
   "id": "918762e0",
   "metadata": {},
   "outputs": [],
   "source": [
    "data_pca_frac = data_pca.sample(frac=0.10)"
   ]
  },
  {
   "cell_type": "code",
   "execution_count": 95,
   "id": "d2b9893a",
   "metadata": {},
   "outputs": [
    {
     "data": {
      "image/png": "[encoded data removed]",
      "text/plain": [
       "<Figure size 1296x504 with 1 Axes>"
      ]
     },
     "metadata": {
      "needs_background": "light"
     },
     "output_type": "display_data"
    }
   ],
   "source": [
    "plt.figure(figsize=[18,7])\n",
    "merg = linkage(data_pca_frac, method='ward')\n",
    "dendrogram(merg, leaf_rotation=90,)\n",
    "plt.xlabel('Datapoints')\n",
    "plt.ylabel('Euclidean distance')\n",
    "plt.show()"
   ]
  },
  {
   "cell_type": "code",
   "execution_count": 96,
   "id": "f2373712",
   "metadata": {},
   "outputs": [],
   "source": [
    "## Building hierarchical clustering model using the optimal clusters as 4\n",
    "hie_cluster = AgglomerativeClustering(n_clusters=3, affinity='euclidean',\n",
    "                                     linkage='ward')\n",
    "hie_cluster_model = hie_cluster.fit(data_pca_frac)\n"
   ]
  },
  {
   "cell_type": "code",
   "execution_count": 97,
   "id": "febd96d2",
   "metadata": {},
   "outputs": [
    {
     "data": {
      "text/html": [
       "<div>\n",
       "<style scoped>\n",
       "    .dataframe tbody tr th:only-of-type {\n",
       "        vertical-align: middle;\n",
       "    }\n",
       "\n",
       "    .dataframe tbody tr th {\n",
       "        vertical-align: top;\n",
       "    }\n",
       "\n",
       "    .dataframe thead th {\n",
       "        text-align: right;\n",
       "    }\n",
       "</style>\n",
       "<table border=\"1\" class=\"dataframe\">\n",
       "  <thead>\n",
       "    <tr style=\"text-align: right;\">\n",
       "      <th></th>\n",
       "      <th>Labels</th>\n",
       "    </tr>\n",
       "  </thead>\n",
       "  <tbody>\n",
       "    <tr>\n",
       "      <th>0</th>\n",
       "      <td>2</td>\n",
       "    </tr>\n",
       "    <tr>\n",
       "      <th>1</th>\n",
       "      <td>0</td>\n",
       "    </tr>\n",
       "    <tr>\n",
       "      <th>2</th>\n",
       "      <td>2</td>\n",
       "    </tr>\n",
       "    <tr>\n",
       "      <th>3</th>\n",
       "      <td>0</td>\n",
       "    </tr>\n",
       "    <tr>\n",
       "      <th>4</th>\n",
       "      <td>0</td>\n",
       "    </tr>\n",
       "  </tbody>\n",
       "</table>\n",
       "</div>"
      ],
      "text/plain": [
       "   Labels\n",
       "0       2\n",
       "1       0\n",
       "2       2\n",
       "3       0\n",
       "4       0"
      ]
     },
     "execution_count": 97,
     "metadata": {},
     "output_type": "execute_result"
    }
   ],
   "source": [
    "## Creating a dataframe of the labels\n",
    "df_label1 = pd.DataFrame(hie_cluster_model.labels_,columns=['Labels'])\n",
    "df_label1.head(5)"
   ]
  },
  {
   "cell_type": "code",
   "execution_count": 98,
   "id": "8ecf619b",
   "metadata": {},
   "outputs": [
    {
     "name": "stdout",
     "output_type": "stream",
     "text": [
      "2 0.31836497391106605\n",
      "3 0.2134667377563377\n",
      "4 0.2279191111635173\n",
      "5 0.1702749646215717\n",
      "6 0.16644554000108075\n",
      "7 0.16939628045720076\n",
      "8 0.18092896216328466\n"
     ]
    }
   ],
   "source": [
    "for i in range(2,9):\n",
    "    hier = AgglomerativeClustering(n_clusters=i)\n",
    "    hier = hier.fit(data_pca_frac)\n",
    "    labels = hier.fit_predict(data_pca_frac)\n",
    "    print(i,silhouette_score(data_pca_frac,labels))"
   ]
  },
  {
   "cell_type": "code",
   "execution_count": null,
   "id": "243555c7",
   "metadata": {},
   "outputs": [],
   "source": []
  }
 ],
 "metadata": {
  "kernelspec": {
   "display_name": "Python 3 (ipykernel)",
   "language": "python",
   "name": "python3"
  },
  "language_info": {
   "codemirror_mode": {
    "name": "ipython",
    "version": 3
   },
   "file_extension": ".py",
   "mimetype": "text/x-python",
   "name": "python",
   "nbconvert_exporter": "python",
   "pygments_lexer": "ipython3",
   "version": "3.10.0"
  }
 },
 "nbformat": 4,
 "nbformat_minor": 5
}
